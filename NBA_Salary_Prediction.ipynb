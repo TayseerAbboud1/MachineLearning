{
  "nbformat": 4,
  "nbformat_minor": 0,
  "metadata": {
    "colab": {
      "provenance": [],
      "authorship_tag": "ABX9TyNLLj+iyAdjz0hlEQvbElhI",
      "include_colab_link": true
    },
    "kernelspec": {
      "name": "python3",
      "display_name": "Python 3"
    },
    "language_info": {
      "name": "python"
    }
  },
  "cells": [
    {
      "cell_type": "markdown",
      "metadata": {
        "id": "view-in-github",
        "colab_type": "text"
      },
      "source": [
        "<a href=\"https://colab.research.google.com/github/TayseerAbboud1/MachineLearning/blob/main/NBA_Salary_Prediction.ipynb\" target=\"_parent\"><img src=\"https://colab.research.google.com/assets/colab-badge.svg\" alt=\"Open In Colab\"/></a>"
      ]
    },
    {
      "cell_type": "code",
      "source": [
        "#Reading the csv file\n",
        "import pandas as pd\n",
        "df = pd.read_csv('/content/NBA-Salaries.csv') \n",
        "df = df.dropna()\n",
        "#print(df)"
      ],
      "metadata": {
        "id": "e7zNK7eRsYk6"
      },
      "execution_count": 2,
      "outputs": []
    },
    {
      "cell_type": "code",
      "execution_count": 11,
      "metadata": {
        "colab": {
          "base_uri": "https://localhost:8080/"
        },
        "id": "RmqRO5pfrzWR",
        "outputId": "d2f8b97f-30d4-4379-87e0-5f9c8d426ce7"
      },
      "outputs": [
        {
          "output_type": "stream",
          "name": "stdout",
          "text": [
            "Accuracy: 0.030927835051546393\n",
            "f1 score: 0.023195876288659788\n",
            "[ 1423560  1312611 17190000 11825000  2116955]\n"
          ]
        },
        {
          "output_type": "execute_result",
          "data": {
            "text/plain": [
              "18868625"
            ]
          },
          "metadata": {},
          "execution_count": 11
        }
      ],
      "source": [
        "# Classification using decision tree classifier\n",
        "from sklearn.model_selection import train_test_split\n",
        "from sklearn.tree import DecisionTreeClassifier\n",
        "from sklearn.metrics import f1_score\n",
        "from sklearn.metrics import accuracy_score\n",
        "mapping = { \"USA\": 3, \"Spain\" : 2, \"China\": 1, \"Georgia\": 0, \"Canada\": 1, \"Brazil\": 0, \"Egypt\": 0, \"Tunisia\": 0, \"Democratic Re...\": 0,\"Democratic Re_\":0,\n",
        "           \"France\": 2, \"Czech Republic\": 0, \"Russia\": 1, \"South Sudan\": 0, \"Switzerland\": 0, \"New Zealand\": 0, \"Haiti\": 0, \"Germany\": 0,\n",
        "           \"Australia\": 1, \"Cameroon\": 0, \"Israel\": 0, \"Turkey\": 0, \"United Kingdo...\": 0, \"Montenegro\": 0, \"Serbia\": 0, \"Argentina\": 0, \n",
        "           \"Brazil\": 0, \"Bosnia\": 0, \"Lithuania\": 0, \"Croatia\": 0, \"Italy\": 1, \"Poland\": 0, \"Dominican Rep...\": 0, \"Finland\": 0, \"Latvia\": 0, \n",
        "           \"Bosnia & Herz...\": 0, \"Sweden\": 0, \"Ukraine\": 0, \"Austria\": 0, \"Puerto Rico\": 0, \"Senegal\": 0, \"Slovenia\": 0, \"Greece\": 0, \"Mali\": 0,\n",
        "           \"Bahamas\": 0,\"HOU\": 1,\"GSW\": 1,\"SAC\":1,\"CHI\":3,\"POR\":1,\"DAL\":2,\"BOS\":3,\"MEM\":2,\"DEN\":2,\"TOT\":2, \"LAC\":3,\"ORL\":3,\"MIA\":3,\"IND\":2,\"LAL\":3,\n",
        "           \"MIN\":1,\"PHO\":2,\"ATL\":2,\"CLE\":3,\"NYK\":3,\"CHO\":2,\"MIL\":1,\"SAS\":1,\"UTA\":1,\"WAS\":2,\"NOP\":1,\"PHI\":2,\"BRK\":1,\"OKC\":2,\"DET\":2,\"TOR\":1}\n",
        "data_x = df.iloc[:,2:29].replace(mapping)\n",
        "data_y = df['Salary']\n",
        "# data_x = df.drop(['Player', 'Salary'], axis = 1)\n",
        "X_train, X_test, y_train, y_test = train_test_split(data_x, data_y, test_size=0.2)\n",
        "tree = DecisionTreeClassifier()\n",
        "tree.fit(X_train, y_train)\n",
        "y_pred = tree.predict(X_test)\n",
        "#Calculating the accuracy\n",
        "accuracy = tree.score(X_test, y_test)\n",
        "#accuracy = accuracy_score(y_test, y_pred)\n",
        "print(\"Accuracy:\", accuracy)\n",
        "f1 = f1_score(y_test,y_pred,average = 'weighted')\n",
        "print(\"f1 score:\",f1 )\n",
        "print(y_pred[-5:])\n",
        "Tayseer = {\"NBA_Country\": [3],\"NBA_DraftNumber\":[2],\"Age\":[24],\"Tm\":[2],\"G\":[61],\"MP\": 1246,\"PER\":[17],\"TS%\":[0.562],\"3PAr\":[0.644],\"FTr\":[0.214],\"ORB%\":[5.2],\"DRB%\":[21.6],\"TRB%\":[13.4],\n",
        "           \"AST%\":[11.2],\"STL%\":[1.6],\"BLK%\":[1.1],\"TOV%\":[17.1],\"USG%\":[35.6],\"OWS\":[0.1],\"DWS\":[3.5],\"WS\":[9.2],\"WS/48\":[0.175],\"OBPM\":[11.9],\"DBPM\":[3.4],\"BPM\":[1.1],\"VORP\":[0.8]}\n",
        "#feature engineer\n",
        "Tayseer_test = pd.DataFrame(Tayseer)\n",
        "Tayseer_pred = tree.predict(Tayseer_test)\n",
        "Tayseer_pred[0]"
      ]
    },
    {
      "cell_type": "code",
      "source": [
        "# new algorithm --> Logistic Regression\n",
        "from sklearn.linear_model import LogisticRegression\n",
        "from sklearn.model_selection import train_test_split\n",
        "mapping = { \"USA\": 3, \"Spain\" : 2, \"China\": 1, \"Georgia\": 0, \"Canada\": 1, \"Brazil\": 0, \"Egypt\": 0, \"Tunisia\": 0, \"Democratic Re...\": 0,\"Democratic Re_\":0,\n",
        "           \"France\": 2, \"Czech Republic\": 0, \"Russia\": 1, \"South Sudan\": 0, \"Switzerland\": 0, \"New Zealand\": 0, \"Haiti\": 0, \"Germany\": 0,\n",
        "           \"Australia\": 1, \"Cameroon\": 0, \"Israel\": 0, \"Turkey\": 0, \"United Kingdo...\": 0, \"Montenegro\": 0, \"Serbia\": 0, \"Argentina\": 0, \n",
        "           \"Brazil\": 0, \"Bosnia\": 0, \"Lithuania\": 0, \"Croatia\": 0, \"Italy\": 1, \"Poland\": 0, \"Dominican Rep...\": 0, \"Finland\": 0, \"Latvia\": 0, \n",
        "           \"Bosnia & Herz...\": 0, \"Sweden\": 0, \"Ukraine\": 0, \"Austria\": 0, \"Puerto Rico\": 0, \"Senegal\": 0, \"Slovenia\": 0, \"Greece\": 0, \"Mali\": 0,\n",
        "           \"Bahamas\": 0,\"HOU\": 1,\"GSW\": 1,\"SAC\":1,\"CHI\":3,\"POR\":1,\"DAL\":2,\"BOS\":3,\"MEM\":2,\"DEN\":2,\"TOT\":2, \"LAC\":3,\"ORL\":3,\"MIA\":3,\"IND\":2,\"LAL\":3,\n",
        "           \"MIN\":1,\"PHO\":2,\"ATL\":2,\"CLE\":3,\"NYK\":3,\"CHO\":2,\"MIL\":1,\"SAS\":1,\"UTA\":1,\"WAS\":2,\"NOP\":1,\"PHI\":2,\"BRK\":1,\"OKC\":2,\"DET\":2,\"TOR\":1}\n",
        "data_x = df.iloc[:,2:29].replace(mapping)\n",
        "data_y = df['Salary']\n",
        "X_train, X_test, y_train, y_test = train_test_split(data_x,data_y, test_size=0.5)\n",
        "model = LogisticRegression()\n",
        "model.fit(X_train, y_train)\n",
        "#prediction\n",
        "y_pred = model.predict(X_test)\n",
        "print(y_pred[-5:])\n",
        "#Calculating the accuracy\n",
        "accuracy = model.score(X_test, y_test)\n",
        "print(accuracy)\n",
        "johnny = {\"NBA_Country\": [3],\"NBA_DraftNumber\":[1],\"Age\":[22],\"Tm\":[1],\"G\":[61],\"MP\": 1246,\"PER\":[17],\"TS%\":[0.562],\"3PAr\":[0.344],\"FTr\":[0.214],\"ORB%\":[6.2],\"DRB%\":[11.6],\"TRB%\":[13.4],\n",
        "           \"AST%\":[11.2],\"STL%\":[1.6],\"BLK%\":[1.1],\"TOV%\":[12.1],\"USG%\":[35.6],\"OWS\":[0.1],\"DWS\":[3.5],\"WS\":[9.2],\"WS/48\":[0.254],\"OBPM\":[21.9],\"DBPM\":[3.4],\"BPM\":[1.1],\"VORP\":[0.8]}\n",
        "#Feature engineer in new algorithm\n",
        "johnny_test = pd.DataFrame(johnny)\n",
        "johnny_pred = model.predict(johnny_test)\n",
        "print(johnny_pred[0])"
      ],
      "metadata": {
        "id": "aNANlILYsq5d"
      },
      "execution_count": null,
      "outputs": []
    },
    {
      "cell_type": "code",
      "source": [
        "print(\"Classification is a supervised machine learning task that involves predicting a categorical label for a given input data sample. There are various approaches and algorithms that can be used for classification, such as decision trees, logistic regression.In terms of key findings, some common observations in classification tasks include the importance of balancing the training data, the impact of imbalanced class distributions on model performance, and the usefulness of ensemble methods (which combine the predictions of multiple models) in improving performance.\")"
      ],
      "metadata": {
        "colab": {
          "base_uri": "https://localhost:8080/"
        },
        "id": "rSGUQsktw0vH",
        "outputId": "a512f8d7-4c9e-4031-f489-dfb6991e5b59"
      },
      "execution_count": 12,
      "outputs": [
        {
          "output_type": "stream",
          "name": "stdout",
          "text": [
            "Classification is a supervised machine learning task that involves predicting a categorical label for a given input data sample. There are various approaches and algorithms that can be used for classification, such as decision trees, logistic regression.In terms of key findings, some common observations in classification tasks include the importance of balancing the training data, the impact of imbalanced class distributions on model performance, and the usefulness of ensemble methods (which combine the predictions of multiple models) in improving performance.\n"
          ]
        }
      ]
    }
  ]
}